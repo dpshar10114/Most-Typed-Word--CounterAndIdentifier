{
 "cells": [
  {
   "cell_type": "code",
   "execution_count": 13,
   "metadata": {},
   "outputs": [
    {
     "name": "stdout",
     "output_type": "stream",
     "text": [
      "########## MOST TYPED WORD COUNTER & IDENTIFIER ########## \n",
      "Developer: Hardik Agarwal, 17CE015\n",
      "Enter Your Choice \n",
      " 1. File Path \n",
      " 2. Input Data \n",
      "\n",
      "2\n",
      "Enter String \n",
      "It is a long established fact that a reader will be distracted by the readable content of a page when looking at its layout. The point of using Lorem Ipsum is that it has a more-or-less normal distribution of letters, as opposed to using 'Content here, content here', making it look like readable English. Many desktop publishing packages and web page editors now use Lorem Ipsum as their default model text, and a search for 'lorem ipsum' will uncover many web sites still in their infancy. Various versions have evolved over the years, sometimes by accident, sometimes on purpose (injected humour and the like).\n",
      "\n",
      "Most Typed Word in the given file is =>  a\n",
      "Frequency of Word = 5\n"
     ]
    }
   ],
   "source": [
    "def core(result):\n",
    "    bigWord = None\n",
    "    bigCount = None\n",
    "    \n",
    "    for word,count in result.items():\n",
    "        if bigWord is None or count > bigCount:\n",
    "            bigWord = word\n",
    "            bigCount = count\n",
    "            \n",
    "    print(\"\\nMost Typed Word in the given file is =>  \",end=\"\")\n",
    "    print(bigWord)\n",
    "    print(\"Frequency of Word = \", end =\"\")\n",
    "    print(bigCount)\n",
    "\n",
    "print(\"########## MOST TYPED WORD COUNTER & IDENTIFIER ########## \\nDeveloper: Hardik Agarwal, 17CE015\")\n",
    "\n",
    "try:\n",
    "    choice = int(input(\"Enter Your Choice \\n 1. File Path \\n 2. Input Data \\n\\n\"))    \n",
    "except:\n",
    "    print(\"Invalid Choice\")\n",
    "\n",
    "result = {}\n",
    "if choice == 1:\n",
    "    try:\n",
    "        path = input(\"Enter File Path: \\n\")\n",
    "    except:\n",
    "        print(\"Invalid Path\")\n",
    "    \n",
    "    handle = open(path)\n",
    "    \n",
    "    for line in handle:\n",
    "        words = line.split()\n",
    "        for word in words:\n",
    "            result[word] = result.get(word, 0) + 1\n",
    "    core(result)\n",
    "            \n",
    "\n",
    "elif choice == 2:\n",
    "    data = input(\"Enter String \\n\")\n",
    "    words = data.split()\n",
    "    \n",
    "    for word in words:\n",
    "        result[word] = result.get(word,0) + 1\n",
    "        \n",
    "    core(result)"
   ]
  }
 ],
 "metadata": {
  "kernelspec": {
   "display_name": "Python 3",
   "language": "python",
   "name": "python3"
  },
  "language_info": {
   "codemirror_mode": {
    "name": "ipython",
    "version": 3
   },
   "file_extension": ".py",
   "mimetype": "text/x-python",
   "name": "python",
   "nbconvert_exporter": "python",
   "pygments_lexer": "ipython3",
   "version": "3.7.4"
  }
 },
 "nbformat": 4,
 "nbformat_minor": 2
}
